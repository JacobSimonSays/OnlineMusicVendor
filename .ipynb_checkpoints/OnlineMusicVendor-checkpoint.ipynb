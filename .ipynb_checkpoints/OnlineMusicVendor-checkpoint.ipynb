{
 "cells": [
  {
   "cell_type": "markdown",
   "metadata": {},
   "source": [
    "# The Next iTunes: Optimizing Business Strategies for an Online Music Vendor\n",
    "\n",
    "<img src=\"https://s3.amazonaws.com/dq-content/191/chinook-schema.svg\" width=\"350\" align=\"right\">\n",
    "\n",
    "A hypothetical client has asked us to analyze their business practices and make recommendations based on their available data. The database we're working with is provided by dataquest.io for educational purposes. The database has over 18,000 entries and we will be using SQLite to query the data for our analysis. The client has some specific questions regarding music acquistion and employee performance, but also asks us to make our own assessments based on our findings. Test.\n",
    "\n",
    "\n",
    "\n",
    "## Opening, and Exploring the Data\n",
    "\n",
    "Our client is Canadian online music vendor Chinook. They sell both new and classic music from a variety of genres. We're provided the database file and attached schema. Below we'll open the database in SQLite and check the master to verify that we have all of the data we expect. The data includes information on each customer, employee, track, and invoice from the last few years.\n"
   ]
  },
  {
   "cell_type": "code",
   "execution_count": 2,
   "metadata": {},
   "outputs": [],
   "source": [
    "%%capture\n",
    "%load_ext sql\n",
    "%sql sqlite:///chinook.db"
   ]
  },
  {
   "cell_type": "code",
   "execution_count": 3,
   "metadata": {},
   "outputs": [
    {
     "name": "stdout",
     "output_type": "stream",
     "text": [
      " * sqlite:///chinook.db\n",
      "Done.\n"
     ]
    },
    {
     "data": {
      "text/html": [
       "<table>\n",
       "    <thead>\n",
       "        <tr>\n",
       "            <th>name</th>\n",
       "            <th>type</th>\n",
       "        </tr>\n",
       "    </thead>\n",
       "    <tbody>\n",
       "        <tr>\n",
       "            <td>album</td>\n",
       "            <td>table</td>\n",
       "        </tr>\n",
       "        <tr>\n",
       "            <td>artist</td>\n",
       "            <td>table</td>\n",
       "        </tr>\n",
       "        <tr>\n",
       "            <td>customer</td>\n",
       "            <td>table</td>\n",
       "        </tr>\n",
       "        <tr>\n",
       "            <td>employee</td>\n",
       "            <td>table</td>\n",
       "        </tr>\n",
       "        <tr>\n",
       "            <td>genre</td>\n",
       "            <td>table</td>\n",
       "        </tr>\n",
       "        <tr>\n",
       "            <td>invoice</td>\n",
       "            <td>table</td>\n",
       "        </tr>\n",
       "        <tr>\n",
       "            <td>invoice_line</td>\n",
       "            <td>table</td>\n",
       "        </tr>\n",
       "        <tr>\n",
       "            <td>media_type</td>\n",
       "            <td>table</td>\n",
       "        </tr>\n",
       "        <tr>\n",
       "            <td>playlist</td>\n",
       "            <td>table</td>\n",
       "        </tr>\n",
       "        <tr>\n",
       "            <td>playlist_track</td>\n",
       "            <td>table</td>\n",
       "        </tr>\n",
       "        <tr>\n",
       "            <td>track</td>\n",
       "            <td>table</td>\n",
       "        </tr>\n",
       "    </tbody>\n",
       "</table>"
      ],
      "text/plain": [
       "[('album', 'table'),\n",
       " ('artist', 'table'),\n",
       " ('customer', 'table'),\n",
       " ('employee', 'table'),\n",
       " ('genre', 'table'),\n",
       " ('invoice', 'table'),\n",
       " ('invoice_line', 'table'),\n",
       " ('media_type', 'table'),\n",
       " ('playlist', 'table'),\n",
       " ('playlist_track', 'table'),\n",
       " ('track', 'table')]"
      ]
     },
     "execution_count": 3,
     "metadata": {},
     "output_type": "execute_result"
    }
   ],
   "source": [
    "%%sql\n",
    "SELECT\n",
    "    name,\n",
    "    type\n",
    "FROM sqlite_master\n",
    "WHERE type IN ('table', 'view');"
   ]
  },
  {
   "cell_type": "markdown",
   "metadata": {},
   "source": [
    "## Genre Recommendation\n",
    "\n",
    "Chinook recently made a deal with a record label based in the US. The deal includes a choice of three new albums and a budget to advertise a single album in the States. Our client wants us to recommend which three of the four albums to acquire, and which to advertise. Because these albums are from new artists, we don't have data on how well their music sells. We'll instead base our analysis on the genre of each album. The four albums we have to choose from are Hip-Hop, Punk, Pop, and Blues. Below we query our database for music genres ranked by the percent of sales in the US."
   ]
  },
  {
   "cell_type": "code",
   "execution_count": 4,
   "metadata": {},
   "outputs": [
    {
     "name": "stdout",
     "output_type": "stream",
     "text": [
      " * sqlite:///chinook.db\n",
      "Done.\n"
     ]
    },
    {
     "data": {
      "text/html": [
       "<table>\n",
       "    <thead>\n",
       "        <tr>\n",
       "            <th>genre</th>\n",
       "            <th>tracks_sold</th>\n",
       "            <th>percent_sold</th>\n",
       "        </tr>\n",
       "    </thead>\n",
       "    <tbody>\n",
       "        <tr>\n",
       "            <td>Alternative &amp; Punk</td>\n",
       "            <td>130</td>\n",
       "            <td>12.4</td>\n",
       "        </tr>\n",
       "        <tr>\n",
       "            <td>Blues</td>\n",
       "            <td>36</td>\n",
       "            <td>3.4</td>\n",
       "        </tr>\n",
       "        <tr>\n",
       "            <td>Hip Hop/Rap</td>\n",
       "            <td>20</td>\n",
       "            <td>1.9</td>\n",
       "        </tr>\n",
       "        <tr>\n",
       "            <td>Pop</td>\n",
       "            <td>22</td>\n",
       "            <td>2.1</td>\n",
       "        </tr>\n",
       "    </tbody>\n",
       "</table>"
      ],
      "text/plain": [
       "[('Alternative & Punk', 130, 12.4),\n",
       " ('Blues', 36, 3.4),\n",
       " ('Hip Hop/Rap', 20, 1.9),\n",
       " ('Pop', 22, 2.1)]"
      ]
     },
     "execution_count": 4,
     "metadata": {},
     "output_type": "execute_result"
    }
   ],
   "source": [
    "%%sql\n",
    "WITH genres_sold AS\n",
    "    (SELECT g.name genre,\n",
    "            SUM(il.quantity) tracks_sold\n",
    "       FROM invoice i\n",
    "       LEFT JOIN invoice_line il ON i.invoice_id = il.invoice_id\n",
    "       LEFT JOIN track t ON t.track_id = il.track_id\n",
    "       LEFT JOIN genre g ON t.genre_id = g.genre_id\n",
    "      WHERE i.billing_country = 'USA'\n",
    "      GROUP BY g.name)\n",
    "SELECT genre,\n",
    "       tracks_sold,\n",
    "       ROUND(100 * CAST(tracks_sold AS Float)/\n",
    "                   (SELECT SUM(tracks_sold)\n",
    "                      FROM genres_sold)\n",
    "                   , 1) AS percent_sold\n",
    "FROM genres_sold\n",
    "WHERE genre IN ('Pop', 'Alternative & Punk', 'Blues', 'Hip Hop/Rap');"
   ]
  },
  {
   "cell_type": "markdown",
   "metadata": {},
   "source": [
    "The initial data seems to suggest that, of the four genres, `Hip Hop/Rap` has the lowest percent of sales. However, the diffence between `Hip Hop/Rap` and `Pop` amounts to just two sales, hardly a convincing difference. Additionally, this data only tells us the total number of sales in each genre. It's possible that the company only sells more `Alternative & Punk` music because they have more of it available. If the company doesn't have many `Hip Hop/Rap` or `Pop` offerings, that could explain the lower sales. We should analyze the total number of tracks in each genre, and compare that to their respective sales. Below, we query our data to find the number of US sales per track available in each genre."
   ]
  },
  {
   "cell_type": "code",
   "execution_count": 5,
   "metadata": {},
   "outputs": [
    {
     "name": "stdout",
     "output_type": "stream",
     "text": [
      " * sqlite:///chinook.db\n",
      "Done.\n"
     ]
    },
    {
     "data": {
      "text/html": [
       "<table>\n",
       "    <thead>\n",
       "        <tr>\n",
       "            <th>genre</th>\n",
       "            <th>total</th>\n",
       "            <th>sold</th>\n",
       "            <th>sales_per_track</th>\n",
       "        </tr>\n",
       "    </thead>\n",
       "    <tbody>\n",
       "        <tr>\n",
       "            <td>Hip Hop/Rap</td>\n",
       "            <td>35</td>\n",
       "            <td>20</td>\n",
       "            <td>0.57</td>\n",
       "        </tr>\n",
       "        <tr>\n",
       "            <td>Pop</td>\n",
       "            <td>48</td>\n",
       "            <td>22</td>\n",
       "            <td>0.46</td>\n",
       "        </tr>\n",
       "        <tr>\n",
       "            <td>Blues</td>\n",
       "            <td>81</td>\n",
       "            <td>36</td>\n",
       "            <td>0.44</td>\n",
       "        </tr>\n",
       "        <tr>\n",
       "            <td>Alternative &amp; Punk</td>\n",
       "            <td>332</td>\n",
       "            <td>130</td>\n",
       "            <td>0.39</td>\n",
       "        </tr>\n",
       "    </tbody>\n",
       "</table>"
      ],
      "text/plain": [
       "[('Hip Hop/Rap', 35, 20, 0.57),\n",
       " ('Pop', 48, 22, 0.46),\n",
       " ('Blues', 81, 36, 0.44),\n",
       " ('Alternative & Punk', 332, 130, 0.39)]"
      ]
     },
     "execution_count": 5,
     "metadata": {},
     "output_type": "execute_result"
    }
   ],
   "source": [
    "%%sql\n",
    "WITH genres_total AS\n",
    "    (SELECT g.name name,\n",
    "            COUNT(t.track_id) total_tracks\n",
    "        FROM track t\n",
    "        LEFT JOIN genre g ON t.genre_id = g.genre_id\n",
    "        GROUP BY g.name),\n",
    "genres_sold AS\n",
    "    (SELECT g.name name,\n",
    "            SUM(il.quantity) tracks_sold\n",
    "            FROM invoice i\n",
    "            LEFT JOIN invoice_line il ON i.invoice_id = il.invoice_id\n",
    "            LEFT JOIN track t ON t.track_id = il.track_id\n",
    "            LEFT JOIN genre g ON t.genre_id = g.genre_id\n",
    "            WHERE i.billing_country = 'USA'\n",
    "            GROUP BY g.name)\n",
    "\n",
    "SELECT gt.name genre,\n",
    "       gt.total_tracks total,\n",
    "       gs.tracks_sold sold,\n",
    "       ROUND(CAST(gs.tracks_sold AS Float)/\n",
    "                   CAST(gt.total_tracks AS Float), 2) sales_per_track\n",
    "FROM genres_total gt\n",
    "LEFT JOIN genres_sold gs ON gt.name = gs.name\n",
    "WHERE genre IN ('Pop', 'Alternative & Punk', 'Blues', 'Hip Hop/Rap')\n",
    "ORDER BY sales_per_track DESC"
   ]
  },
  {
   "cell_type": "markdown",
   "metadata": {},
   "source": [
    "Of our genres of interest, `Hip Hop/Rap` and `Pop` have the highest ratio of tracks sold to tracks offered. Increasing the company's offerings in these genre could genreate sales by targeting a part of our market with lower supply but higher demand.\n",
    "\n",
    "It's worth noting two factors that may be skewing our results. The first is that `Punk` is not a genre on its own, but instead part of `Alternative & Punk`. There's even a different genre which is just `Alternative`. We could dig deeper into the categorization of these tracks, but the client tells us that this is beyond the scope and budget of the analysis. We'll take the data at face value, and assume all tracks in `Alternative & Punk` are 'Punk'.\n",
    "\n",
    "The second issue is that the data set we have is quite small; we're looking at fewer than 50 sales for most of our genres. Let's repeat both our analyses, but now look global sales instead of just US sales. We'll do this by removing a single line from each of our queries."
   ]
  },
  {
   "cell_type": "code",
   "execution_count": 6,
   "metadata": {},
   "outputs": [
    {
     "name": "stdout",
     "output_type": "stream",
     "text": [
      " * sqlite:///chinook.db\n",
      "Done.\n"
     ]
    },
    {
     "data": {
      "text/html": [
       "<table>\n",
       "    <thead>\n",
       "        <tr>\n",
       "            <th>genre</th>\n",
       "            <th>tracks_sold</th>\n",
       "            <th>percent_sold</th>\n",
       "        </tr>\n",
       "    </thead>\n",
       "    <tbody>\n",
       "        <tr>\n",
       "            <td>Alternative &amp; Punk</td>\n",
       "            <td>492</td>\n",
       "            <td>10.3</td>\n",
       "        </tr>\n",
       "        <tr>\n",
       "            <td>Blues</td>\n",
       "            <td>124</td>\n",
       "            <td>2.6</td>\n",
       "        </tr>\n",
       "        <tr>\n",
       "            <td>Hip Hop/Rap</td>\n",
       "            <td>33</td>\n",
       "            <td>0.7</td>\n",
       "        </tr>\n",
       "        <tr>\n",
       "            <td>Pop</td>\n",
       "            <td>63</td>\n",
       "            <td>1.3</td>\n",
       "        </tr>\n",
       "    </tbody>\n",
       "</table>"
      ],
      "text/plain": [
       "[('Alternative & Punk', 492, 10.3),\n",
       " ('Blues', 124, 2.6),\n",
       " ('Hip Hop/Rap', 33, 0.7),\n",
       " ('Pop', 63, 1.3)]"
      ]
     },
     "execution_count": 6,
     "metadata": {},
     "output_type": "execute_result"
    }
   ],
   "source": [
    "%%sql\n",
    "WITH genres_sold AS\n",
    "    (SELECT g.name genre,\n",
    "            SUM(il.quantity) tracks_sold\n",
    "       FROM invoice i\n",
    "       LEFT JOIN invoice_line il ON i.invoice_id = il.invoice_id\n",
    "       LEFT JOIN track t ON t.track_id = il.track_id\n",
    "       LEFT JOIN genre g ON t.genre_id = g.genre_id\n",
    "      GROUP BY g.name)\n",
    "    \n",
    "SELECT genre,\n",
    "       tracks_sold,\n",
    "       ROUND(100 * CAST(tracks_sold AS Float)/\n",
    "            (SELECT SUM(tracks_sold)\n",
    "               FROM genres_sold)\n",
    "             , 1) AS percent_sold\n",
    "FROM genres_sold\n",
    "WHERE genre IN ('Pop', 'Alternative & Punk', 'Blues', 'Hip Hop/Rap');"
   ]
  },
  {
   "cell_type": "code",
   "execution_count": 7,
   "metadata": {},
   "outputs": [
    {
     "name": "stdout",
     "output_type": "stream",
     "text": [
      " * sqlite:///chinook.db\n",
      "Done.\n"
     ]
    },
    {
     "data": {
      "text/html": [
       "<table>\n",
       "    <thead>\n",
       "        <tr>\n",
       "            <th>genre</th>\n",
       "            <th>total</th>\n",
       "            <th>sold</th>\n",
       "            <th>sales_per_track</th>\n",
       "        </tr>\n",
       "    </thead>\n",
       "    <tbody>\n",
       "        <tr>\n",
       "            <td>Blues</td>\n",
       "            <td>81</td>\n",
       "            <td>124</td>\n",
       "            <td>1.53</td>\n",
       "        </tr>\n",
       "        <tr>\n",
       "            <td>Alternative &amp; Punk</td>\n",
       "            <td>332</td>\n",
       "            <td>492</td>\n",
       "            <td>1.48</td>\n",
       "        </tr>\n",
       "        <tr>\n",
       "            <td>Pop</td>\n",
       "            <td>48</td>\n",
       "            <td>63</td>\n",
       "            <td>1.31</td>\n",
       "        </tr>\n",
       "        <tr>\n",
       "            <td>Hip Hop/Rap</td>\n",
       "            <td>35</td>\n",
       "            <td>33</td>\n",
       "            <td>0.94</td>\n",
       "        </tr>\n",
       "    </tbody>\n",
       "</table>"
      ],
      "text/plain": [
       "[('Blues', 81, 124, 1.53),\n",
       " ('Alternative & Punk', 332, 492, 1.48),\n",
       " ('Pop', 48, 63, 1.31),\n",
       " ('Hip Hop/Rap', 35, 33, 0.94)]"
      ]
     },
     "execution_count": 7,
     "metadata": {},
     "output_type": "execute_result"
    }
   ],
   "source": [
    "%%sql\n",
    "WITH genres_total AS\n",
    "    (SELECT g.name name,\n",
    "            COUNT(t.track_id) total_tracks\n",
    "       FROM track t\n",
    "       LEFT JOIN genre g ON t.genre_id = g.genre_id\n",
    "      GROUP BY g.name),\n",
    "\n",
    "genres_sold AS\n",
    "    (SELECT g.name name,\n",
    "            SUM(il.quantity) tracks_sold\n",
    "       FROM invoice i\n",
    "       LEFT JOIN invoice_line il ON i.invoice_id = il.invoice_id\n",
    "       LEFT JOIN track t ON t.track_id = il.track_id\n",
    "       LEFT JOIN genre g ON t.genre_id = g.genre_id\n",
    "      GROUP BY g.name)\n",
    "\n",
    "SELECT gt.name genre,\n",
    "       gt.total_tracks total,\n",
    "       gs.tracks_sold sold,\n",
    "       ROUND(CAST(gs.tracks_sold AS Float)/\n",
    "             CAST(gt.total_tracks AS Float), 2) sales_per_track\n",
    "  FROM genres_total gt\n",
    "  LEFT JOIN genres_sold gs ON gt.name = gs.name\n",
    " WHERE genre IN ('Pop', 'Alternative & Punk', 'Blues', 'Hip Hop/Rap')\n",
    " ORDER BY sales_per_track DESC;"
   ]
  },
  {
   "cell_type": "markdown",
   "metadata": {},
   "source": [
    "The results of all four analyses are compiled below.\n",
    "\n",
    "| Genre | Percent US Sales | US Sales per Track | Percent Global Sales | Global Sales per Track |\n",
    "| ----- | ----- | ----- | ----- | ----- |\n",
    "| Blues | 3.4 | 0.44 | 2.6 | 1.53 |\n",
    "| Hip Hop | 1.9 | 0.57 | 0.7 | 0.94 |\n",
    "| Pop | 2.1 | 0.46 | 1.3 | 1.31 |\n",
    "| Punk | 12.4 | 0.39 | 10.3 | 1.48 |\n",
    "\n",
    "We would recommend two options for our client. In either scenario, the company should acquire the Blues, Pop, and Punk albums. These are the best performing options both in the US and globally. \n",
    "\n",
    "The first option is to maximize short-term revenue, by advertising the Punk album. This is the best performing genre, and could yeild the highest immeidate returns.\n",
    "\n",
    "The second option is to advertise the Pop album. Of the three albums acquired, Pop has the highest US sales per track. This could indicate higher demand for this genre of music. The company doesn't offer many Pop tracks, so expanding their offerings can expand their customer base.\n",
    "\n",
    "If the client wanted analysis of sales for all genres, we could run any of our queries above and simply remove the `WHERE` clause at the end to see the results for every genre.\n",
    "\n",
    "\n",
    "## Employee Performance\n",
    "\n",
    "When they first make a purchase, each customer is assigned to a sales support agent within the company. Our client is looking into professional development for one or all of its agents, and is also willing to replace an agent that is perfroming drastically lower than the others. The company would like us to analyze the sales performance of each agent. We also need to factor in how many customers each agent has assigned to them, and how long they've been at the company. Our metrics will be sales per customer and sales per month, as these will be more directly comparable numbers. Below, we join the employee, customer, and invoice tables to calculate the sales per customer and sales per month for each sales support agent."
   ]
  },
  {
   "cell_type": "code",
   "execution_count": 8,
   "metadata": {},
   "outputs": [
    {
     "name": "stdout",
     "output_type": "stream",
     "text": [
      " * sqlite:///chinook.db\n",
      "Done.\n"
     ]
    },
    {
     "data": {
      "text/html": [
       "<table>\n",
       "    <thead>\n",
       "        <tr>\n",
       "            <th>employee_name</th>\n",
       "            <th>sales_totals</th>\n",
       "            <th>months_with_company</th>\n",
       "            <th>customers</th>\n",
       "            <th>sales_per_month</th>\n",
       "            <th>sales_per_customer</th>\n",
       "        </tr>\n",
       "    </thead>\n",
       "    <tbody>\n",
       "        <tr>\n",
       "            <td>Jane Peacock</td>\n",
       "            <td>$1731.51</td>\n",
       "            <td>46</td>\n",
       "            <td>212</td>\n",
       "            <td>$37.64</td>\n",
       "            <td>$8.17</td>\n",
       "        </tr>\n",
       "        <tr>\n",
       "            <td>Margaret Park</td>\n",
       "            <td>$1584.00</td>\n",
       "            <td>45</td>\n",
       "            <td>214</td>\n",
       "            <td>$35.20</td>\n",
       "            <td>$7.40</td>\n",
       "        </tr>\n",
       "        <tr>\n",
       "            <td>Steve Johnson</td>\n",
       "            <td>$1393.92</td>\n",
       "            <td>39</td>\n",
       "            <td>188</td>\n",
       "            <td>$35.74</td>\n",
       "            <td>$7.41</td>\n",
       "        </tr>\n",
       "    </tbody>\n",
       "</table>"
      ],
      "text/plain": [
       "[('Jane Peacock', '$1731.51', 46, 212, '$37.64', '$8.17'),\n",
       " ('Margaret Park', '$1584.00', 45, 214, '$35.20', '$7.40'),\n",
       " ('Steve Johnson', '$1393.92', 39, 188, '$35.74', '$7.41')]"
      ]
     },
     "execution_count": 8,
     "metadata": {},
     "output_type": "execute_result"
    }
   ],
   "source": [
    "%%sql\n",
    "WITH employee_compare AS (\n",
    "    SELECT e.first_name || ' ' || e.last_name employee_name, \n",
    "           ROUND(SUM(i.total), 2) sales_totals,\n",
    "           DATE(e.hire_date) hire_date,\n",
    "           ROUND(CAST(JULIANDAY(MAX(i.invoice_date))\n",
    "                    - JULIANDAY(e.hire_date) AS Float)/30\n",
    "                 , 0) months_with_company,\n",
    "           COUNT(c.customer_id) customers\n",
    "      FROM employee e\n",
    "     INNER JOIN customer c ON e.employee_id = c.support_rep_id\n",
    "     INNER JOIN invoice i on i.customer_id = c.customer_id\n",
    "     GROUP BY employee_name)\n",
    "\n",
    "SELECT employee_name,\n",
    "       '$' || printf(\"%.2f\", sales_totals) sales_totals,\n",
    "       CAST(months_with_company AS Int) months_with_company,\n",
    "       customers,\n",
    "       '$' || printf(\"%.2f\", ROUND(sales_totals/months_with_company, 2)) sales_per_month,\n",
    "       '$' || printf(\"%.2f\", ROUND(sales_totals/customers, 2)) sales_per_customer\n",
    "  FROM employee_compare;"
   ]
  },
  {
   "cell_type": "markdown",
   "metadata": {},
   "source": [
    "The difference between the best and worst performing agents amounts to less than $2.50/month. This does not indicate a wide gap in employee performance. If the client wanted to invest in professional development, they would be better off training the entire department together rather than just one agent. Replacing an agent would likely result in a net loss due to the cost of interviewing and training a new agent far outweighing the benefit.\n",
    "\n",
    "## International Sales\n",
    "\n",
    "Our client has customers in 24 countries around the world, and wants information on their international sales figures. They indicate that the `country` value is more accurate in the `customer` table than the `invoice` table, and that they'd like us to group countries with only one unique customer into an `Other` category. For each entry, the client wants the total number of customers, the total value of sales, the average value of sales per customer, and the average order value."
   ]
  },
  {
   "cell_type": "code",
   "execution_count": 14,
   "metadata": {},
   "outputs": [
    {
     "name": "stdout",
     "output_type": "stream",
     "text": [
      " * sqlite:///chinook.db\n",
      "Done.\n"
     ]
    },
    {
     "data": {
      "text/html": [
       "<table>\n",
       "    <thead>\n",
       "        <tr>\n",
       "            <th>countries</th>\n",
       "            <th>customers</th>\n",
       "            <th>total_sales</th>\n",
       "            <th>sales_per_customer</th>\n",
       "            <th>average_order_value</th>\n",
       "        </tr>\n",
       "    </thead>\n",
       "    <tbody>\n",
       "        <tr>\n",
       "            <td>USA</td>\n",
       "            <td>13</td>\n",
       "            <td>$1040.49</td>\n",
       "            <td>$80.04</td>\n",
       "            <td>$7.94</td>\n",
       "        </tr>\n",
       "        <tr>\n",
       "            <td>Canada</td>\n",
       "            <td>8</td>\n",
       "            <td>$535.59</td>\n",
       "            <td>$66.95</td>\n",
       "            <td>$7.05</td>\n",
       "        </tr>\n",
       "        <tr>\n",
       "            <td>Brazil</td>\n",
       "            <td>5</td>\n",
       "            <td>$427.68</td>\n",
       "            <td>$85.54</td>\n",
       "            <td>$7.01</td>\n",
       "        </tr>\n",
       "        <tr>\n",
       "            <td>France</td>\n",
       "            <td>5</td>\n",
       "            <td>$389.07</td>\n",
       "            <td>$77.81</td>\n",
       "            <td>$7.78</td>\n",
       "        </tr>\n",
       "        <tr>\n",
       "            <td>Germany</td>\n",
       "            <td>4</td>\n",
       "            <td>$334.62</td>\n",
       "            <td>$83.66</td>\n",
       "            <td>$8.16</td>\n",
       "        </tr>\n",
       "        <tr>\n",
       "            <td>United Kingdom</td>\n",
       "            <td>3</td>\n",
       "            <td>$245.52</td>\n",
       "            <td>$81.84</td>\n",
       "            <td>$8.77</td>\n",
       "        </tr>\n",
       "        <tr>\n",
       "            <td>Czech Republic</td>\n",
       "            <td>2</td>\n",
       "            <td>$273.24</td>\n",
       "            <td>$136.62</td>\n",
       "            <td>$9.11</td>\n",
       "        </tr>\n",
       "        <tr>\n",
       "            <td>India</td>\n",
       "            <td>2</td>\n",
       "            <td>$183.15</td>\n",
       "            <td>$91.58</td>\n",
       "            <td>$8.72</td>\n",
       "        </tr>\n",
       "        <tr>\n",
       "            <td>Portugal</td>\n",
       "            <td>2</td>\n",
       "            <td>$185.13</td>\n",
       "            <td>$92.57</td>\n",
       "            <td>$6.38</td>\n",
       "        </tr>\n",
       "        <tr>\n",
       "            <td>Other</td>\n",
       "            <td>15</td>\n",
       "            <td>$1094.94</td>\n",
       "            <td>$73.00</td>\n",
       "            <td>$7.45</td>\n",
       "        </tr>\n",
       "    </tbody>\n",
       "</table>"
      ],
      "text/plain": [
       "[('USA', 13, '$1040.49', '$80.04', '$7.94'),\n",
       " ('Canada', 8, '$535.59', '$66.95', '$7.05'),\n",
       " ('Brazil', 5, '$427.68', '$85.54', '$7.01'),\n",
       " ('France', 5, '$389.07', '$77.81', '$7.78'),\n",
       " ('Germany', 4, '$334.62', '$83.66', '$8.16'),\n",
       " ('United Kingdom', 3, '$245.52', '$81.84', '$8.77'),\n",
       " ('Czech Republic', 2, '$273.24', '$136.62', '$9.11'),\n",
       " ('India', 2, '$183.15', '$91.58', '$8.72'),\n",
       " ('Portugal', 2, '$185.13', '$92.57', '$6.38'),\n",
       " ('Other', 15, '$1094.94', '$73.00', '$7.45')]"
      ]
     },
     "execution_count": 14,
     "metadata": {},
     "output_type": "execute_result"
    }
   ],
   "source": [
    "%%sql\n",
    "WITH country_other AS (\n",
    "    SELECT country,\n",
    "           COUNT(customer_id) unique_customers,\n",
    "           CASE\n",
    "             WHEN country IN (SELECT country\n",
    "                                FROM customer\n",
    "                               GROUP BY country\n",
    "                              HAVING COUNT(country) > 1)\n",
    "             THEN 0\n",
    "             ELSE 1\n",
    "             END AS other\n",
    "      FROM customer\n",
    "     GROUP BY country),\n",
    "    \n",
    "customers_sorted AS (\n",
    "    SELECT co.other,\n",
    "           c.customer_id,\n",
    "           CASE\n",
    "             WHEN co.other = 0 THEN co.unique_customers\n",
    "             ELSE (SELECT SUM(other) FROM country_other)\n",
    "             END AS number_customers,\n",
    "           CASE\n",
    "             WHEN co.other = 0 THEN c.country\n",
    "             ELSE 'Other'\n",
    "             END AS countries\n",
    "      FROM customer c\n",
    "      LEFT JOIN country_other co ON c.country = co.country)\n",
    "    \n",
    "SELECT cs.countries countries,\n",
    "       MAX(cs.number_customers) customers,\n",
    "       '$' || printf(\"%.2f\", ROUND(SUM(i.total),2)) total_sales,\n",
    "       '$' || printf(\"%.2f\", ROUND(SUM(i.total)/MAX(cs.number_customers),2)) sales_per_customer,\n",
    "       '$' || printf(\"%.2f\", ROUND(SUM(i.total)/COUNT(i.total),2)) average_order_value\n",
    "  FROM invoice i\n",
    "  LEFT JOIN customers_sorted cs ON cs.customer_id = i.customer_id\n",
    " GROUP BY countries\n",
    " ORDER BY other, customers DESC;"
   ]
  },
  {
   "cell_type": "markdown",
   "metadata": {},
   "source": [
    "The client has not requested any analysis; the data is for internal use.\n",
    "\n",
    "## Albums vs Tracks\n",
    "\n",
    "Chinook is considering a cost-saving measure regarding the way they acquire music. The company could save money by only acquiring the most popular tracks rather than the entire album. They'd like us to analyze how often customers purchase albums vs individual tracks. We need to sort each invoice into those that have every track from an album vs those that have only a few and those that have tracks from mulitple albums. The client indicated that their website does not allow customers to add tracks to purchases of whole albums, so we don't need to consider that scenario."
   ]
  },
  {
   "cell_type": "code",
   "execution_count": 10,
   "metadata": {},
   "outputs": [
    {
     "name": "stdout",
     "output_type": "stream",
     "text": [
      " * sqlite:///chinook.db\n",
      "Done.\n"
     ]
    },
    {
     "data": {
      "text/html": [
       "<table>\n",
       "    <thead>\n",
       "        <tr>\n",
       "            <th>purchase_type</th>\n",
       "            <th>purchases</th>\n",
       "            <th>tracks_sold</th>\n",
       "            <th>sales</th>\n",
       "        </tr>\n",
       "    </thead>\n",
       "    <tbody>\n",
       "        <tr>\n",
       "            <td>album</td>\n",
       "            <td>114</td>\n",
       "            <td>1476</td>\n",
       "            <td>$1461.24</td>\n",
       "        </tr>\n",
       "        <tr>\n",
       "            <td>track</td>\n",
       "            <td>500</td>\n",
       "            <td>3281</td>\n",
       "            <td>$3248.19</td>\n",
       "        </tr>\n",
       "    </tbody>\n",
       "</table>"
      ],
      "text/plain": [
       "[('album', 114, 1476, '$1461.24'), ('track', 500, 3281, '$3248.19')]"
      ]
     },
     "execution_count": 10,
     "metadata": {},
     "output_type": "execute_result"
    }
   ],
   "source": [
    "%%sql\n",
    "WITH album_sizes AS (\n",
    "    SELECT album_id album_id,\n",
    "           COUNT(track_id) album_size\n",
    "      FROM track\n",
    "     GROUP BY album_id),\n",
    "\n",
    "album_invoices AS (\n",
    "    SELECT invoice_id,\n",
    "           COUNT(il.track_id) tracks_sold,\n",
    "           SUM(il.unit_price) sale_value,\n",
    "           CASE\n",
    "                WHEN COUNT(t.track_id) = a.album_size \n",
    "                     AND MAX(t.album_id) = MIN(t.album_id)\n",
    "                THEN 'album'\n",
    "                ELSE 'track'\n",
    "                 END AS purchase_type\n",
    "      FROM invoice_line il\n",
    "      LEFT JOIN track t ON il.track_id = t.track_id\n",
    "      LEFT JOIN album_sizes a ON a.album_id = t.album_id\n",
    "     GROUP BY invoice_id)\n",
    "\n",
    "SELECT purchase_type,\n",
    "       COUNT(invoice_id) purchases,\n",
    "       SUM(tracks_sold) tracks_sold,\n",
    "       '$' || ROUND(SUM(sale_value), 2) sales\n",
    "  FROM album_invoices\n",
    " GROUP BY purchase_type;"
   ]
  },
  {
   "cell_type": "markdown",
   "metadata": {},
   "source": [
    "Album sales account for just over 30% of sales revenue for the company. This isn't enough information to recommend purchasing tracks over albums. The specifics of the cost of tracks vs albums would need to be taken into account. That being said, tracks do generate more than twice as much revenue as sales. Further analysis could be done by only looking at albums with more than 5 tracks, as small albums and singles may be skewing the results.\n",
    "\n",
    "## Future Analysis\n",
    "\n",
    "With the data the client provided, we could offer a variety of additional analysis services. We could find tracks that have never sold, looking for patterns in genre, artist, and price. This would allow additional cost saving measures by no longer acquiring tracks in those categories. We could compare media types, and whether customers prefer protected file-types. If protected file types are important to consumers, that could be used in the advertising of the online store. We could observe invoice dates to determine times of year when customers shop most frequently, to be able to time deals and promotions accordingly.\n",
    "\n",
    "In this project I've used SQL in the following ways:\n",
    "\n",
    "1. Used the provided schema to join and filter tables to return specific data\n",
    "2. Performed simple calculations on data including integers, dates, percents, and dollar values \n",
    "3. Used nested queries to answer more complex and conditional questions\n",
    "4. Maintained readability of both results and code using standard formatting and organization\n",
    "\n",
    "Jacob Simon, March 2022"
   ]
  },
  {
   "cell_type": "code",
   "execution_count": null,
   "metadata": {},
   "outputs": [],
   "source": []
  }
 ],
 "metadata": {
  "kernelspec": {
   "display_name": "Python 3",
   "language": "python",
   "name": "python3"
  },
  "language_info": {
   "codemirror_mode": {
    "name": "ipython",
    "version": 3
   },
   "file_extension": ".py",
   "mimetype": "text/x-python",
   "name": "python",
   "nbconvert_exporter": "python",
   "pygments_lexer": "ipython3",
   "version": "3.8.8"
  }
 },
 "nbformat": 4,
 "nbformat_minor": 2
}
